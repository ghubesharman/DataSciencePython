{
  "nbformat": 4,
  "nbformat_minor": 0,
  "metadata": {
    "colab": {
      "provenance": [],
      "authorship_tag": "ABX9TyOL0NVbp++WwEfIIe8AmQ1S",
      "include_colab_link": true
    },
    "kernelspec": {
      "name": "python3",
      "display_name": "Python 3"
    },
    "language_info": {
      "name": "python"
    }
  },
  "cells": [
    {
      "cell_type": "markdown",
      "metadata": {
        "id": "view-in-github",
        "colab_type": "text"
      },
      "source": [
        "<a href=\"https://colab.research.google.com/github/ghubesharman/DataSciencePython/blob/main/Experiment1.ipynb\" target=\"_parent\"><img src=\"https://colab.research.google.com/assets/colab-badge.svg\" alt=\"Open In Colab\"/></a>"
      ]
    },
    {
      "cell_type": "code",
      "source": [
        "!pip install pandas\n",
        "import pandas as pd"
      ],
      "metadata": {
        "colab": {
          "base_uri": "https://localhost:8080/"
        },
        "id": "wN3TmLsr7cNl",
        "outputId": "50ad4986-8351-4e98-f94d-09871c1ce408"
      },
      "execution_count": null,
      "outputs": [
        {
          "output_type": "stream",
          "name": "stdout",
          "text": [
            "Requirement already satisfied: pandas in /usr/local/lib/python3.10/dist-packages (2.0.3)\n",
            "Requirement already satisfied: python-dateutil>=2.8.2 in /usr/local/lib/python3.10/dist-packages (from pandas) (2.8.2)\n",
            "Requirement already satisfied: pytz>=2020.1 in /usr/local/lib/python3.10/dist-packages (from pandas) (2023.4)\n",
            "Requirement already satisfied: tzdata>=2022.1 in /usr/local/lib/python3.10/dist-packages (from pandas) (2024.1)\n",
            "Requirement already satisfied: numpy>=1.21.0 in /usr/local/lib/python3.10/dist-packages (from pandas) (1.25.2)\n",
            "Requirement already satisfied: six>=1.5 in /usr/local/lib/python3.10/dist-packages (from python-dateutil>=2.8.2->pandas) (1.16.0)\n"
          ]
        }
      ]
    },
    {
      "cell_type": "code",
      "execution_count": null,
      "metadata": {
        "colab": {
          "base_uri": "https://localhost:8080/"
        },
        "id": "Z40jAQU-5c_x",
        "outputId": "2a89e654-8ae1-4fca-e5ef-b848acdb417f"
      },
      "outputs": [
        {
          "output_type": "stream",
          "name": "stdout",
          "text": [
            "          Restaurant Name  Rating  Delivery Time (mins)  Cost for Two (INR)  \\\n",
            "0           Biryani Bliss     4.2                    44                 366   \n",
            "1            Pasta Fiesta     4.4                    46                 473   \n",
            "2             Urban Tadka     3.0                    47                 587   \n",
            "3            Pasta Fiesta     4.9                    35                 800   \n",
            "4            Pasta Fiesta     4.7                    34                 515   \n",
            "5  The Great Indian Diner     3.4                    22                 213   \n",
            "6             Urban Tadka     3.4                    56                 441   \n",
            "7             Urban Tadka     3.4                    26                 976   \n",
            "8             Urban Tadka     3.6                    40                 545   \n",
            "9            Pasta Fiesta     4.0                    28                 764   \n",
            "\n",
            "  Cuisine Type  \n",
            "0      Chinese  \n",
            "1      Mexican  \n",
            "2      Mexican  \n",
            "3      Mexican  \n",
            "4      Mexican  \n",
            "5     American  \n",
            "6      Italian  \n",
            "7       Indian  \n",
            "8      Mexican  \n",
            "9      Chinese  \n"
          ]
        }
      ],
      "source": [
        "df = pd.read_csv('/content/swiggy_dataset.csv')\n",
        "print(df)"
      ]
    },
    {
      "cell_type": "code",
      "source": [
        "df = pd.read_csv('/content/zomato_dataset.csv')\n",
        "print(df)"
      ],
      "metadata": {
        "colab": {
          "base_uri": "https://localhost:8080/"
        },
        "id": "8qJKFy3C78-l",
        "outputId": "9d84a5ff-13db-4e5d-aafa-a9520aaccdcf"
      },
      "execution_count": null,
      "outputs": [
        {
          "output_type": "stream",
          "name": "stdout",
          "text": [
            "          Restaurant Name  Rating  Delivery Time (mins)  Cost for Two (INR)  \\\n",
            "0           Biryani Bliss     4.8                    45                 847   \n",
            "1  The Great Indian Diner     4.2                    44                 671   \n",
            "2  The Great Indian Diner     4.8                    48                 262   \n",
            "3           Biryani Bliss     3.2                    34                 338   \n",
            "4            Pasta Fiesta     3.4                    20                 698   \n",
            "5  The Great Indian Diner     3.1                    44                 792   \n",
            "6  The Great Indian Diner     3.7                    26                 591   \n",
            "7           Biryani Bliss     3.8                    28                 874   \n",
            "8  The Great Indian Diner     3.5                    43                 618   \n",
            "9  The Great Indian Diner     4.7                    20                 488   \n",
            "\n",
            "  Cuisine Type  \n",
            "0      Italian  \n",
            "1     American  \n",
            "2      Chinese  \n",
            "3      Chinese  \n",
            "4       Indian  \n",
            "5      Mexican  \n",
            "6       Indian  \n",
            "7      Mexican  \n",
            "8      Chinese  \n",
            "9       Indian  \n"
          ]
        }
      ]
    },
    {
      "cell_type": "code",
      "source": [
        "import pandas as pd\n",
        "\n",
        "# read the datasets\n",
        "df1 = pd.read_csv(\"/content/swiggy_dataset.csv\")\n",
        "df2 = pd.read_csv(\"/content/zomato_dataset.csv\")\n",
        "\n",
        "concat_data = pd.concat([df1, df2], ignore_index=True)\n",
        "print(concat_data)"
      ],
      "metadata": {
        "colab": {
          "base_uri": "https://localhost:8080/"
        },
        "id": "_ntdZ7Li93U3",
        "outputId": "feb70854-7ae7-4391-8b20-a0689bc15982"
      },
      "execution_count": null,
      "outputs": [
        {
          "output_type": "stream",
          "name": "stdout",
          "text": [
            "           Restaurant Name  Rating  Delivery Time (mins)  Cost for Two (INR)  \\\n",
            "0            Biryani Bliss     4.2                    44                 366   \n",
            "1             Pasta Fiesta     4.4                    46                 473   \n",
            "2              Urban Tadka     3.0                    47                 587   \n",
            "3             Pasta Fiesta     4.9                    35                 800   \n",
            "4             Pasta Fiesta     4.7                    34                 515   \n",
            "5   The Great Indian Diner     3.4                    22                 213   \n",
            "6              Urban Tadka     3.4                    56                 441   \n",
            "7              Urban Tadka     3.4                    26                 976   \n",
            "8              Urban Tadka     3.6                    40                 545   \n",
            "9             Pasta Fiesta     4.0                    28                 764   \n",
            "10           Biryani Bliss     4.8                    45                 847   \n",
            "11  The Great Indian Diner     4.2                    44                 671   \n",
            "12  The Great Indian Diner     4.8                    48                 262   \n",
            "13           Biryani Bliss     3.2                    34                 338   \n",
            "14            Pasta Fiesta     3.4                    20                 698   \n",
            "15  The Great Indian Diner     3.1                    44                 792   \n",
            "16  The Great Indian Diner     3.7                    26                 591   \n",
            "17           Biryani Bliss     3.8                    28                 874   \n",
            "18  The Great Indian Diner     3.5                    43                 618   \n",
            "19  The Great Indian Diner     4.7                    20                 488   \n",
            "\n",
            "   Cuisine Type  \n",
            "0       Chinese  \n",
            "1       Mexican  \n",
            "2       Mexican  \n",
            "3       Mexican  \n",
            "4       Mexican  \n",
            "5      American  \n",
            "6       Italian  \n",
            "7        Indian  \n",
            "8       Mexican  \n",
            "9       Chinese  \n",
            "10      Italian  \n",
            "11     American  \n",
            "12      Chinese  \n",
            "13      Chinese  \n",
            "14       Indian  \n",
            "15      Mexican  \n",
            "16       Indian  \n",
            "17      Mexican  \n",
            "18      Chinese  \n",
            "19       Indian  \n"
          ]
        }
      ]
    },
    {
      "cell_type": "code",
      "source": [
        "filtered_df = df[df['Rating'] > 3]\n",
        "print(filtered_df)"
      ],
      "metadata": {
        "colab": {
          "base_uri": "https://localhost:8080/"
        },
        "id": "OGvLUljdD9S3",
        "outputId": "83eae0de-e670-49c5-ba33-29f1f20e6838"
      },
      "execution_count": null,
      "outputs": [
        {
          "output_type": "stream",
          "name": "stdout",
          "text": [
            "          Restaurant Name  Rating  Delivery Time (mins)  Cost for Two (INR)  \\\n",
            "0           Biryani Bliss     4.8                    45                 847   \n",
            "1  The Great Indian Diner     4.2                    44                 671   \n",
            "2  The Great Indian Diner     4.8                    48                 262   \n",
            "3           Biryani Bliss     3.2                    34                 338   \n",
            "4            Pasta Fiesta     3.4                    20                 698   \n",
            "5  The Great Indian Diner     3.1                    44                 792   \n",
            "6  The Great Indian Diner     3.7                    26                 591   \n",
            "7           Biryani Bliss     3.8                    28                 874   \n",
            "8  The Great Indian Diner     3.5                    43                 618   \n",
            "9  The Great Indian Diner     4.7                    20                 488   \n",
            "\n",
            "  Cuisine Type  \n",
            "0      Italian  \n",
            "1     American  \n",
            "2      Chinese  \n",
            "3      Chinese  \n",
            "4       Indian  \n",
            "5      Mexican  \n",
            "6       Indian  \n",
            "7      Mexican  \n",
            "8      Chinese  \n",
            "9       Indian  \n"
          ]
        }
      ]
    },
    {
      "cell_type": "code",
      "source": [
        "import random\n",
        "\n",
        "sample_size = 5\n",
        "sample_df = df.sample(n=sample_size)\n",
        "\n",
        "rating_column = sample_df['Rating']\n",
        "\n",
        "print(rating_column)"
      ],
      "metadata": {
        "colab": {
          "base_uri": "https://localhost:8080/"
        },
        "id": "xI7ETQbdEqq9",
        "outputId": "d3c5f3ad-d408-4ddc-f901-0fc18c137770"
      },
      "execution_count": null,
      "outputs": [
        {
          "output_type": "stream",
          "name": "stdout",
          "text": [
            "1    4.2\n",
            "9    4.7\n",
            "5    3.1\n",
            "4    3.4\n",
            "8    3.5\n",
            "Name: Rating, dtype: float64\n"
          ]
        }
      ]
    }
  ]
}