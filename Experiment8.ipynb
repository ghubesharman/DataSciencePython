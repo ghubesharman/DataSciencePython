{
  "nbformat": 4,
  "nbformat_minor": 0,
  "metadata": {
    "colab": {
      "provenance": [],
      "authorship_tag": "ABX9TyM1/9Z9Lxhu+bmwmMLNs+V5",
      "include_colab_link": true
    },
    "kernelspec": {
      "name": "python3",
      "display_name": "Python 3"
    },
    "language_info": {
      "name": "python"
    }
  },
  "cells": [
    {
      "cell_type": "markdown",
      "metadata": {
        "id": "view-in-github",
        "colab_type": "text"
      },
      "source": [
        "<a href=\"https://colab.research.google.com/github/ghubesharman/DataSciencePython/blob/main/Experiment8.ipynb\" target=\"_parent\"><img src=\"https://colab.research.google.com/assets/colab-badge.svg\" alt=\"Open In Colab\"/></a>"
      ]
    },
    {
      "cell_type": "code",
      "source": [
        "from ucimlrepo import fetch_ucirepo\n",
        "from sklearn.feature_selection import chi2, mutual_info_classif\n",
        "from sklearn.preprocessing import LabelEncoder, MinMaxScaler\n",
        "import pandas as pd"
      ],
      "metadata": {
        "id": "zQw78i-2JR41"
      },
      "execution_count": 11,
      "outputs": []
    },
    {
      "cell_type": "code",
      "source": [
        "# Fetch dataset using ucimlrepo\n",
        "iris = fetch_ucirepo(id=53)  # Iris dataset ID from UCI repository\n",
        "X = iris.data.features  # Features\n",
        "y = iris.data.targets   # Target"
      ],
      "metadata": {
        "id": "W_E6X1oGJeAn"
      },
      "execution_count": 12,
      "outputs": []
    },
    {
      "cell_type": "code",
      "source": [
        "# Variable names (column names for features)\n",
        "feature_names = ['sepal length', 'sepal width', 'petal length', 'petal width']"
      ],
      "metadata": {
        "id": "OpMEatDOJf1_"
      },
      "execution_count": 13,
      "outputs": []
    },
    {
      "cell_type": "code",
      "source": [
        "# Flatten the target array\n",
        "y = y.ravel()  # Converts y to a 1D array"
      ],
      "metadata": {
        "id": "BCDGtDxeJ3hq"
      },
      "execution_count": 15,
      "outputs": []
    },
    {
      "cell_type": "code",
      "source": [
        "# Encode target variable if categorical\n",
        "le = LabelEncoder()\n",
        "y = le.fit_transform(y)"
      ],
      "metadata": {
        "id": "4MTpCUiEJhU_"
      },
      "execution_count": 16,
      "outputs": []
    },
    {
      "cell_type": "code",
      "source": [
        "# Scale features for Chi-Square\n",
        "scaler = MinMaxScaler()\n",
        "X_scaled = scaler.fit_transform(X)"
      ],
      "metadata": {
        "id": "1iIeXQcHJjX9"
      },
      "execution_count": 17,
      "outputs": []
    },
    {
      "cell_type": "code",
      "source": [
        "# Chi-Square Feature Selection\n",
        "chi_scores, p_values = chi2(X_scaled, y)\n",
        "chi2_results = pd.DataFrame({\"Feature\": feature_names, \"Chi2_Score\": chi_scores, \"P_Value\": p_values})\n",
        "chi2_results.sort_values(by=\"Chi2_Score\", ascending=False, inplace=True)\n",
        "print(\"Chi-Square Feature Selection Results:\\n\", chi2_results)"
      ],
      "metadata": {
        "colab": {
          "base_uri": "https://localhost:8080/"
        },
        "id": "DkA95aUiJksJ",
        "outputId": "d2480bf1-9a09-44e8-e01a-476d9bcba1d4"
      },
      "execution_count": 18,
      "outputs": [
        {
          "output_type": "stream",
          "name": "stdout",
          "text": [
            "Chi-Square Feature Selection Results:\n",
            "         Feature  Chi2_Score       P_Value\n",
            "3   petal width   30.568922  2.301669e-07\n",
            "2  petal length   26.827240  1.494648e-06\n",
            "0  sepal length   11.377274  3.384203e-03\n",
            "1   sepal width    4.339658  1.141971e-01\n"
          ]
        }
      ]
    },
    {
      "cell_type": "code",
      "source": [
        "# Mutual Information\n",
        "mi_scores = mutual_info_classif(X_scaled, y)\n",
        "mi_results = pd.DataFrame({\"Feature\": feature_names, \"MI_Score\": mi_scores})\n",
        "mi_results.sort_values(by=\"MI_Score\", ascending=False, inplace=True)\n",
        "print(\"Mutual Information Results:\\n\", mi_results)"
      ],
      "metadata": {
        "colab": {
          "base_uri": "https://localhost:8080/"
        },
        "id": "YbIcQHhiJm3L",
        "outputId": "3b0e4176-e814-4fda-f698-5c5c5f573e4d"
      },
      "execution_count": 19,
      "outputs": [
        {
          "output_type": "stream",
          "name": "stdout",
          "text": [
            "Mutual Information Results:\n",
            "         Feature  MI_Score\n",
            "2  petal length  0.993846\n",
            "3   petal width  0.990800\n",
            "0  sepal length  0.489817\n",
            "1   sepal width  0.260039\n"
          ]
        }
      ]
    }
  ]
}